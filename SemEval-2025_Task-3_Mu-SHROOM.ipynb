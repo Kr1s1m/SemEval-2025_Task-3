{
 "cells": [
  {
   "cell_type": "markdown",
   "id": "b710d431-e71e-441b-93ab-f866c884f191",
   "metadata": {},
   "source": [
    "# SemEval-2025 Task-3 — Mu-SHROOM"
   ]
  },
  {
   "cell_type": "code",
   "execution_count": null,
   "id": "4dcffb91-8504-40c6-b0dd-f04447a65eb2",
   "metadata": {},
   "outputs": [],
   "source": []
  }
 ],
 "metadata": {
  "kernelspec": {
   "display_name": "Python 3 (ipykernel)",
   "language": "python",
   "name": "python3"
  },
  "language_info": {
   "codemirror_mode": {
    "name": "ipython",
    "version": 3
   },
   "file_extension": ".py",
   "mimetype": "text/x-python",
   "name": "python",
   "nbconvert_exporter": "python",
   "pygments_lexer": "ipython3",
   "version": "3.12.6"
  }
 },
 "nbformat": 4,
 "nbformat_minor": 5
}
