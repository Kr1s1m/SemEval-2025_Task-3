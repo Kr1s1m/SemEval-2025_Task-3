{
 "cells": [
  {
   "cell_type": "markdown",
   "id": "b710d431-e71e-441b-93ab-f866c884f191",
   "metadata": {},
   "source": [
    "# SemEval-2025 Task-3 — Mu-SHROOM"
   ]
  },
  {
   "cell_type": "code",
   "execution_count": 1,
   "id": "c4075fb9-561d-4758-8c0d-2d7663a8ba76",
   "metadata": {
    "scrolled": true
   },
   "outputs": [
    {
     "name": "stdout",
     "output_type": "stream",
     "text": [
      "Requirement already satisfied: torch in c:\\users\\simov\\desktop\\projects\\nlp\\projects\\venv\\lib\\site-packages (from -r requirements.txt (line 1)) (2.5.1)\n",
      "Requirement already satisfied: numpy in c:\\users\\simov\\desktop\\projects\\nlp\\projects\\venv\\lib\\site-packages (from -r requirements.txt (line 2)) (2.2.2)\n",
      "Requirement already satisfied: transformers in c:\\users\\simov\\desktop\\projects\\nlp\\projects\\venv\\lib\\site-packages (from -r requirements.txt (line 3)) (4.48.1)\n",
      "Collecting wandb (from -r requirements.txt (line 4))\n",
      "  Downloading wandb-0.19.4-py3-none-win_amd64.whl.metadata (10 kB)\n",
      "Requirement already satisfied: datasets<3.0 in c:\\users\\simov\\desktop\\projects\\nlp\\projects\\venv\\lib\\site-packages (from -r requirements.txt (line 5)) (2.21.0)\n",
      "Requirement already satisfied: ipywidgets in c:\\users\\simov\\desktop\\projects\\nlp\\projects\\venv\\lib\\site-packages (from -r requirements.txt (line 6)) (8.1.5)\n",
      "Requirement already satisfied: seqeval in c:\\users\\simov\\desktop\\projects\\nlp\\projects\\venv\\lib\\site-packages (from -r requirements.txt (line 8)) (1.2.2)\n",
      "Requirement already satisfied: filelock in c:\\users\\simov\\desktop\\projects\\nlp\\projects\\venv\\lib\\site-packages (from torch->-r requirements.txt (line 1)) (3.17.0)\n",
      "Requirement already satisfied: typing-extensions>=4.8.0 in c:\\users\\simov\\desktop\\projects\\nlp\\projects\\venv\\lib\\site-packages (from torch->-r requirements.txt (line 1)) (4.12.2)\n",
      "Requirement already satisfied: networkx in c:\\users\\simov\\desktop\\projects\\nlp\\projects\\venv\\lib\\site-packages (from torch->-r requirements.txt (line 1)) (3.4.2)\n",
      "Requirement already satisfied: jinja2 in c:\\users\\simov\\desktop\\projects\\nlp\\projects\\venv\\lib\\site-packages (from torch->-r requirements.txt (line 1)) (3.1.5)\n",
      "Requirement already satisfied: fsspec in c:\\users\\simov\\desktop\\projects\\nlp\\projects\\venv\\lib\\site-packages (from torch->-r requirements.txt (line 1)) (2024.6.1)\n",
      "Requirement already satisfied: setuptools in c:\\users\\simov\\desktop\\projects\\nlp\\projects\\venv\\lib\\site-packages (from torch->-r requirements.txt (line 1)) (75.8.0)\n",
      "Requirement already satisfied: sympy==1.13.1 in c:\\users\\simov\\desktop\\projects\\nlp\\projects\\venv\\lib\\site-packages (from torch->-r requirements.txt (line 1)) (1.13.1)\n",
      "Requirement already satisfied: mpmath<1.4,>=1.1.0 in c:\\users\\simov\\desktop\\projects\\nlp\\projects\\venv\\lib\\site-packages (from sympy==1.13.1->torch->-r requirements.txt (line 1)) (1.3.0)\n",
      "Requirement already satisfied: huggingface-hub<1.0,>=0.24.0 in c:\\users\\simov\\desktop\\projects\\nlp\\projects\\venv\\lib\\site-packages (from transformers->-r requirements.txt (line 3)) (0.27.1)\n",
      "Requirement already satisfied: packaging>=20.0 in c:\\users\\simov\\desktop\\projects\\nlp\\projects\\venv\\lib\\site-packages (from transformers->-r requirements.txt (line 3)) (24.2)\n",
      "Requirement already satisfied: pyyaml>=5.1 in c:\\users\\simov\\desktop\\projects\\nlp\\projects\\venv\\lib\\site-packages (from transformers->-r requirements.txt (line 3)) (6.0.2)\n",
      "Requirement already satisfied: regex!=2019.12.17 in c:\\users\\simov\\desktop\\projects\\nlp\\projects\\venv\\lib\\site-packages (from transformers->-r requirements.txt (line 3)) (2024.11.6)\n",
      "Requirement already satisfied: requests in c:\\users\\simov\\desktop\\projects\\nlp\\projects\\venv\\lib\\site-packages (from transformers->-r requirements.txt (line 3)) (2.32.3)\n",
      "Requirement already satisfied: tokenizers<0.22,>=0.21 in c:\\users\\simov\\desktop\\projects\\nlp\\projects\\venv\\lib\\site-packages (from transformers->-r requirements.txt (line 3)) (0.21.0)\n",
      "Requirement already satisfied: safetensors>=0.4.1 in c:\\users\\simov\\desktop\\projects\\nlp\\projects\\venv\\lib\\site-packages (from transformers->-r requirements.txt (line 3)) (0.5.2)\n",
      "Requirement already satisfied: tqdm>=4.27 in c:\\users\\simov\\desktop\\projects\\nlp\\projects\\venv\\lib\\site-packages (from transformers->-r requirements.txt (line 3)) (4.67.1)\n",
      "Collecting click!=8.0.0,>=7.1 (from wandb->-r requirements.txt (line 4))\n",
      "  Downloading click-8.1.8-py3-none-any.whl.metadata (2.3 kB)\n",
      "Collecting docker-pycreds>=0.4.0 (from wandb->-r requirements.txt (line 4))\n",
      "  Downloading docker_pycreds-0.4.0-py2.py3-none-any.whl.metadata (1.8 kB)\n",
      "Collecting gitpython!=3.1.29,>=1.0.0 (from wandb->-r requirements.txt (line 4))\n",
      "  Downloading GitPython-3.1.44-py3-none-any.whl.metadata (13 kB)\n",
      "Requirement already satisfied: platformdirs in c:\\users\\simov\\desktop\\projects\\nlp\\projects\\venv\\lib\\site-packages (from wandb->-r requirements.txt (line 4)) (4.3.6)\n",
      "Collecting protobuf!=4.21.0,!=5.28.0,<6,>=3.19.0 (from wandb->-r requirements.txt (line 4))\n",
      "  Downloading protobuf-5.29.3-cp310-abi3-win_amd64.whl.metadata (592 bytes)\n",
      "Requirement already satisfied: psutil>=5.0.0 in c:\\users\\simov\\desktop\\projects\\nlp\\projects\\venv\\lib\\site-packages (from wandb->-r requirements.txt (line 4)) (6.1.1)\n",
      "Collecting pydantic<3,>=2.6 (from wandb->-r requirements.txt (line 4))\n",
      "  Downloading pydantic-2.10.6-py3-none-any.whl.metadata (30 kB)\n",
      "Collecting sentry-sdk>=2.0.0 (from wandb->-r requirements.txt (line 4))\n",
      "  Downloading sentry_sdk-2.20.0-py2.py3-none-any.whl.metadata (10 kB)\n",
      "Collecting setproctitle (from wandb->-r requirements.txt (line 4))\n",
      "  Downloading setproctitle-1.3.4-cp312-cp312-win_amd64.whl.metadata (10 kB)\n",
      "Requirement already satisfied: pyarrow>=15.0.0 in c:\\users\\simov\\desktop\\projects\\nlp\\projects\\venv\\lib\\site-packages (from datasets<3.0->-r requirements.txt (line 5)) (19.0.0)\n",
      "Requirement already satisfied: dill<0.3.9,>=0.3.0 in c:\\users\\simov\\desktop\\projects\\nlp\\projects\\venv\\lib\\site-packages (from datasets<3.0->-r requirements.txt (line 5)) (0.3.8)\n",
      "Requirement already satisfied: pandas in c:\\users\\simov\\desktop\\projects\\nlp\\projects\\venv\\lib\\site-packages (from datasets<3.0->-r requirements.txt (line 5)) (2.2.3)\n",
      "Requirement already satisfied: xxhash in c:\\users\\simov\\desktop\\projects\\nlp\\projects\\venv\\lib\\site-packages (from datasets<3.0->-r requirements.txt (line 5)) (3.5.0)\n",
      "Requirement already satisfied: multiprocess in c:\\users\\simov\\desktop\\projects\\nlp\\projects\\venv\\lib\\site-packages (from datasets<3.0->-r requirements.txt (line 5)) (0.70.16)\n",
      "Requirement already satisfied: aiohttp in c:\\users\\simov\\desktop\\projects\\nlp\\projects\\venv\\lib\\site-packages (from datasets<3.0->-r requirements.txt (line 5)) (3.11.11)\n",
      "Requirement already satisfied: comm>=0.1.3 in c:\\users\\simov\\desktop\\projects\\nlp\\projects\\venv\\lib\\site-packages (from ipywidgets->-r requirements.txt (line 6)) (0.2.2)\n",
      "Requirement already satisfied: ipython>=6.1.0 in c:\\users\\simov\\desktop\\projects\\nlp\\projects\\venv\\lib\\site-packages (from ipywidgets->-r requirements.txt (line 6)) (8.31.0)\n",
      "Requirement already satisfied: traitlets>=4.3.1 in c:\\users\\simov\\desktop\\projects\\nlp\\projects\\venv\\lib\\site-packages (from ipywidgets->-r requirements.txt (line 6)) (5.14.3)\n",
      "Requirement already satisfied: widgetsnbextension~=4.0.12 in c:\\users\\simov\\desktop\\projects\\nlp\\projects\\venv\\lib\\site-packages (from ipywidgets->-r requirements.txt (line 6)) (4.0.13)\n",
      "Requirement already satisfied: jupyterlab-widgets~=3.0.12 in c:\\users\\simov\\desktop\\projects\\nlp\\projects\\venv\\lib\\site-packages (from ipywidgets->-r requirements.txt (line 6)) (3.0.13)\n",
      "Requirement already satisfied: accelerate>=0.26.0 in c:\\users\\simov\\desktop\\projects\\nlp\\projects\\venv\\lib\\site-packages (from transformers[torch]->-r requirements.txt (line 7)) (1.3.0)\n",
      "Requirement already satisfied: scikit-learn>=0.21.3 in c:\\users\\simov\\desktop\\projects\\nlp\\projects\\venv\\lib\\site-packages (from seqeval->-r requirements.txt (line 8)) (1.6.1)\n",
      "Requirement already satisfied: colorama in c:\\users\\simov\\desktop\\projects\\nlp\\projects\\venv\\lib\\site-packages (from click!=8.0.0,>=7.1->wandb->-r requirements.txt (line 4)) (0.4.6)\n",
      "Requirement already satisfied: six>=1.4.0 in c:\\users\\simov\\desktop\\projects\\nlp\\projects\\venv\\lib\\site-packages (from docker-pycreds>=0.4.0->wandb->-r requirements.txt (line 4)) (1.17.0)\n",
      "Requirement already satisfied: aiohappyeyeballs>=2.3.0 in c:\\users\\simov\\desktop\\projects\\nlp\\projects\\venv\\lib\\site-packages (from aiohttp->datasets<3.0->-r requirements.txt (line 5)) (2.4.4)\n",
      "Requirement already satisfied: aiosignal>=1.1.2 in c:\\users\\simov\\desktop\\projects\\nlp\\projects\\venv\\lib\\site-packages (from aiohttp->datasets<3.0->-r requirements.txt (line 5)) (1.3.2)\n",
      "Requirement already satisfied: attrs>=17.3.0 in c:\\users\\simov\\desktop\\projects\\nlp\\projects\\venv\\lib\\site-packages (from aiohttp->datasets<3.0->-r requirements.txt (line 5)) (24.3.0)\n",
      "Requirement already satisfied: frozenlist>=1.1.1 in c:\\users\\simov\\desktop\\projects\\nlp\\projects\\venv\\lib\\site-packages (from aiohttp->datasets<3.0->-r requirements.txt (line 5)) (1.5.0)\n",
      "Requirement already satisfied: multidict<7.0,>=4.5 in c:\\users\\simov\\desktop\\projects\\nlp\\projects\\venv\\lib\\site-packages (from aiohttp->datasets<3.0->-r requirements.txt (line 5)) (6.1.0)\n",
      "Requirement already satisfied: propcache>=0.2.0 in c:\\users\\simov\\desktop\\projects\\nlp\\projects\\venv\\lib\\site-packages (from aiohttp->datasets<3.0->-r requirements.txt (line 5)) (0.2.1)\n",
      "Requirement already satisfied: yarl<2.0,>=1.17.0 in c:\\users\\simov\\desktop\\projects\\nlp\\projects\\venv\\lib\\site-packages (from aiohttp->datasets<3.0->-r requirements.txt (line 5)) (1.18.3)\n",
      "Collecting gitdb<5,>=4.0.1 (from gitpython!=3.1.29,>=1.0.0->wandb->-r requirements.txt (line 4))\n",
      "  Downloading gitdb-4.0.12-py3-none-any.whl.metadata (1.2 kB)\n",
      "Requirement already satisfied: decorator in c:\\users\\simov\\desktop\\projects\\nlp\\projects\\venv\\lib\\site-packages (from ipython>=6.1.0->ipywidgets->-r requirements.txt (line 6)) (5.1.1)\n",
      "Requirement already satisfied: jedi>=0.16 in c:\\users\\simov\\desktop\\projects\\nlp\\projects\\venv\\lib\\site-packages (from ipython>=6.1.0->ipywidgets->-r requirements.txt (line 6)) (0.19.2)\n",
      "Requirement already satisfied: matplotlib-inline in c:\\users\\simov\\desktop\\projects\\nlp\\projects\\venv\\lib\\site-packages (from ipython>=6.1.0->ipywidgets->-r requirements.txt (line 6)) (0.1.7)\n",
      "Requirement already satisfied: prompt_toolkit<3.1.0,>=3.0.41 in c:\\users\\simov\\desktop\\projects\\nlp\\projects\\venv\\lib\\site-packages (from ipython>=6.1.0->ipywidgets->-r requirements.txt (line 6)) (3.0.50)\n",
      "Requirement already satisfied: pygments>=2.4.0 in c:\\users\\simov\\desktop\\projects\\nlp\\projects\\venv\\lib\\site-packages (from ipython>=6.1.0->ipywidgets->-r requirements.txt (line 6)) (2.19.1)\n",
      "Requirement already satisfied: stack_data in c:\\users\\simov\\desktop\\projects\\nlp\\projects\\venv\\lib\\site-packages (from ipython>=6.1.0->ipywidgets->-r requirements.txt (line 6)) (0.6.3)\n",
      "Collecting annotated-types>=0.6.0 (from pydantic<3,>=2.6->wandb->-r requirements.txt (line 4))\n",
      "  Downloading annotated_types-0.7.0-py3-none-any.whl.metadata (15 kB)\n",
      "Collecting pydantic-core==2.27.2 (from pydantic<3,>=2.6->wandb->-r requirements.txt (line 4))\n",
      "  Downloading pydantic_core-2.27.2-cp312-cp312-win_amd64.whl.metadata (6.7 kB)\n",
      "Requirement already satisfied: charset-normalizer<4,>=2 in c:\\users\\simov\\desktop\\projects\\nlp\\projects\\venv\\lib\\site-packages (from requests->transformers->-r requirements.txt (line 3)) (3.4.1)\n",
      "Requirement already satisfied: idna<4,>=2.5 in c:\\users\\simov\\desktop\\projects\\nlp\\projects\\venv\\lib\\site-packages (from requests->transformers->-r requirements.txt (line 3)) (3.10)\n",
      "Requirement already satisfied: urllib3<3,>=1.21.1 in c:\\users\\simov\\desktop\\projects\\nlp\\projects\\venv\\lib\\site-packages (from requests->transformers->-r requirements.txt (line 3)) (2.3.0)\n",
      "Requirement already satisfied: certifi>=2017.4.17 in c:\\users\\simov\\desktop\\projects\\nlp\\projects\\venv\\lib\\site-packages (from requests->transformers->-r requirements.txt (line 3)) (2024.12.14)\n",
      "Requirement already satisfied: scipy>=1.6.0 in c:\\users\\simov\\desktop\\projects\\nlp\\projects\\venv\\lib\\site-packages (from scikit-learn>=0.21.3->seqeval->-r requirements.txt (line 8)) (1.15.1)\n",
      "Requirement already satisfied: joblib>=1.2.0 in c:\\users\\simov\\desktop\\projects\\nlp\\projects\\venv\\lib\\site-packages (from scikit-learn>=0.21.3->seqeval->-r requirements.txt (line 8)) (1.4.2)\n",
      "Requirement already satisfied: threadpoolctl>=3.1.0 in c:\\users\\simov\\desktop\\projects\\nlp\\projects\\venv\\lib\\site-packages (from scikit-learn>=0.21.3->seqeval->-r requirements.txt (line 8)) (3.5.0)\n",
      "Requirement already satisfied: MarkupSafe>=2.0 in c:\\users\\simov\\desktop\\projects\\nlp\\projects\\venv\\lib\\site-packages (from jinja2->torch->-r requirements.txt (line 1)) (3.0.2)\n",
      "Requirement already satisfied: python-dateutil>=2.8.2 in c:\\users\\simov\\desktop\\projects\\nlp\\projects\\venv\\lib\\site-packages (from pandas->datasets<3.0->-r requirements.txt (line 5)) (2.9.0.post0)\n",
      "Requirement already satisfied: pytz>=2020.1 in c:\\users\\simov\\desktop\\projects\\nlp\\projects\\venv\\lib\\site-packages (from pandas->datasets<3.0->-r requirements.txt (line 5)) (2024.2)\n",
      "Requirement already satisfied: tzdata>=2022.7 in c:\\users\\simov\\desktop\\projects\\nlp\\projects\\venv\\lib\\site-packages (from pandas->datasets<3.0->-r requirements.txt (line 5)) (2025.1)\n",
      "Collecting smmap<6,>=3.0.1 (from gitdb<5,>=4.0.1->gitpython!=3.1.29,>=1.0.0->wandb->-r requirements.txt (line 4))\n",
      "  Downloading smmap-5.0.2-py3-none-any.whl.metadata (4.3 kB)\n",
      "Requirement already satisfied: parso<0.9.0,>=0.8.4 in c:\\users\\simov\\desktop\\projects\\nlp\\projects\\venv\\lib\\site-packages (from jedi>=0.16->ipython>=6.1.0->ipywidgets->-r requirements.txt (line 6)) (0.8.4)\n",
      "Requirement already satisfied: wcwidth in c:\\users\\simov\\desktop\\projects\\nlp\\projects\\venv\\lib\\site-packages (from prompt_toolkit<3.1.0,>=3.0.41->ipython>=6.1.0->ipywidgets->-r requirements.txt (line 6)) (0.2.13)\n",
      "Requirement already satisfied: executing>=1.2.0 in c:\\users\\simov\\desktop\\projects\\nlp\\projects\\venv\\lib\\site-packages (from stack_data->ipython>=6.1.0->ipywidgets->-r requirements.txt (line 6)) (2.2.0)\n",
      "Requirement already satisfied: asttokens>=2.1.0 in c:\\users\\simov\\desktop\\projects\\nlp\\projects\\venv\\lib\\site-packages (from stack_data->ipython>=6.1.0->ipywidgets->-r requirements.txt (line 6)) (3.0.0)\n",
      "Requirement already satisfied: pure-eval in c:\\users\\simov\\desktop\\projects\\nlp\\projects\\venv\\lib\\site-packages (from stack_data->ipython>=6.1.0->ipywidgets->-r requirements.txt (line 6)) (0.2.3)\n",
      "Downloading wandb-0.19.4-py3-none-win_amd64.whl (19.7 MB)\n",
      "   ---------------------------------------- 0.0/19.7 MB ? eta -:--:--\n",
      "   -- ------------------------------------- 1.3/19.7 MB 7.5 MB/s eta 0:00:03\n",
      "   ------ --------------------------------- 3.4/19.7 MB 9.1 MB/s eta 0:00:02\n",
      "   ----------- ---------------------------- 5.8/19.7 MB 9.8 MB/s eta 0:00:02\n",
      "   ---------------- ----------------------- 8.1/19.7 MB 10.3 MB/s eta 0:00:02\n",
      "   --------------------- ------------------ 10.5/19.7 MB 10.6 MB/s eta 0:00:01\n",
      "   ------------------------- -------------- 12.6/19.7 MB 10.4 MB/s eta 0:00:01\n",
      "   ---------------------------- ----------- 14.2/19.7 MB 10.1 MB/s eta 0:00:01\n",
      "   --------------------------------- ------ 16.5/19.7 MB 10.2 MB/s eta 0:00:01\n",
      "   -------------------------------------- - 18.9/19.7 MB 10.3 MB/s eta 0:00:01\n",
      "   ---------------------------------------  19.4/19.7 MB 9.6 MB/s eta 0:00:01\n",
      "   ---------------------------------------- 19.7/19.7 MB 9.3 MB/s eta 0:00:00\n",
      "Downloading click-8.1.8-py3-none-any.whl (98 kB)\n",
      "Downloading docker_pycreds-0.4.0-py2.py3-none-any.whl (9.0 kB)\n",
      "Downloading GitPython-3.1.44-py3-none-any.whl (207 kB)\n",
      "Downloading protobuf-5.29.3-cp310-abi3-win_amd64.whl (434 kB)\n",
      "Downloading pydantic-2.10.6-py3-none-any.whl (431 kB)\n",
      "Downloading pydantic_core-2.27.2-cp312-cp312-win_amd64.whl (2.0 MB)\n",
      "   ---------------------------------------- 0.0/2.0 MB ? eta -:--:--\n",
      "   --------------- ------------------------ 0.8/2.0 MB 3.7 MB/s eta 0:00:01\n",
      "   ---------------------------------------- 2.0/2.0 MB 4.8 MB/s eta 0:00:00\n",
      "Downloading sentry_sdk-2.20.0-py2.py3-none-any.whl (322 kB)\n",
      "Downloading setproctitle-1.3.4-cp312-cp312-win_amd64.whl (12 kB)\n",
      "Downloading annotated_types-0.7.0-py3-none-any.whl (13 kB)\n",
      "Downloading gitdb-4.0.12-py3-none-any.whl (62 kB)\n",
      "Downloading smmap-5.0.2-py3-none-any.whl (24 kB)\n",
      "Installing collected packages: smmap, setproctitle, sentry-sdk, pydantic-core, protobuf, docker-pycreds, click, annotated-types, pydantic, gitdb, gitpython, wandb\n",
      "Successfully installed annotated-types-0.7.0 click-8.1.8 docker-pycreds-0.4.0 gitdb-4.0.12 gitpython-3.1.44 protobuf-5.29.3 pydantic-2.10.6 pydantic-core-2.27.2 sentry-sdk-2.20.0 setproctitle-1.3.4 smmap-5.0.2 wandb-0.19.4\n",
      "Note: you may need to restart the kernel to use updated packages.\n"
     ]
    },
    {
     "name": "stderr",
     "output_type": "stream",
     "text": [
      "wandb: Logging into wandb.ai. (Learn how to deploy a W&B server locally: https://wandb.me/wandb-server)\n",
      "wandb: You can find your API key in your browser here: https://wandb.ai/authorize\n",
      "wandb: Paste an API key from your profile and hit enter, or press ctrl+c to quit:"
     ]
    },
    {
     "name": "stdin",
     "output_type": "stream",
     "text": [
      "  ········\n"
     ]
    },
    {
     "name": "stderr",
     "output_type": "stream",
     "text": [
      "wandb: Appending key for api.wandb.ai to your netrc file: C:\\Users\\Simov\\_netrc\n"
     ]
    },
    {
     "data": {
      "text/plain": [
       "True"
      ]
     },
     "execution_count": 1,
     "metadata": {},
     "output_type": "execute_result"
    }
   ],
   "source": [
    "%pip install -r requirements.txt\n",
    "import wandb\n",
    "wandb.login()"
   ]
  },
  {
   "cell_type": "code",
   "execution_count": 2,
   "id": "bf003e73-909d-45d5-afbf-eb20cf1b26e2",
   "metadata": {},
   "outputs": [],
   "source": [
    "import json\n",
    "import pandas as pd"
   ]
  },
  {
   "cell_type": "code",
   "execution_count": 3,
   "id": "d7e87cc1-0343-447a-8740-6bfdfba20ec0",
   "metadata": {},
   "outputs": [
    {
     "data": {
      "text/html": [
       "<div>\n",
       "<style scoped>\n",
       "    .dataframe tbody tr th:only-of-type {\n",
       "        vertical-align: middle;\n",
       "    }\n",
       "\n",
       "    .dataframe tbody tr th {\n",
       "        vertical-align: top;\n",
       "    }\n",
       "\n",
       "    .dataframe thead th {\n",
       "        text-align: right;\n",
       "    }\n",
       "</style>\n",
       "<table border=\"1\" class=\"dataframe\">\n",
       "  <thead>\n",
       "    <tr style=\"text-align: right;\">\n",
       "      <th></th>\n",
       "      <th>id</th>\n",
       "      <th>lang</th>\n",
       "      <th>model_input</th>\n",
       "      <th>model_output_text</th>\n",
       "      <th>model_id</th>\n",
       "      <th>soft_labels</th>\n",
       "      <th>hard_labels</th>\n",
       "    </tr>\n",
       "  </thead>\n",
       "  <tbody>\n",
       "    <tr>\n",
       "      <th>0</th>\n",
       "      <td>1</td>\n",
       "      <td>EN</td>\n",
       "      <td>When was the restoration of the Sándor Palace ...</td>\n",
       "      <td>The restoration of Sándor Palace, also known ...</td>\n",
       "      <td>TheBloke/Mistral-7B-Instruct-v0.2-GGUF</td>\n",
       "      <td>[{'start': 33, 'prob': 0.33333333330000003, 'e...</td>\n",
       "      <td>[[53, 64], [151, 164], [165, 210], [211, 225],...</td>\n",
       "    </tr>\n",
       "    <tr>\n",
       "      <th>1</th>\n",
       "      <td>3</td>\n",
       "      <td>EN</td>\n",
       "      <td>Did the Scotland team debut in the UEFA Euro 1...</td>\n",
       "      <td>Yes, Scotland made their debut in the UEFA Eu...</td>\n",
       "      <td>TheBloke/Mistral-7B-Instruct-v0.2-GGUF</td>\n",
       "      <td>[{'start': 1, 'prob': 0.6666666667000001, 'end...</td>\n",
       "      <td>[[1, 4], [49, 53], [87, 103], [232, 246], [262...</td>\n",
       "    </tr>\n",
       "    <tr>\n",
       "      <th>2</th>\n",
       "      <td>4</td>\n",
       "      <td>FR</td>\n",
       "      <td>Contre quelles équipes l'Azerbaïdjan a-t-il ét...</td>\n",
       "      <td>L'équipe d'Azerbaïdjan n'a pas participé à l'...</td>\n",
       "      <td>TheBloke/Mistral-7B-Instruct-v0.2-GGUF</td>\n",
       "      <td>[{'start': 1, 'prob': 0.33333333330000003, 'en...</td>\n",
       "      <td>[[24, 55], [60, 162], [213, 320]]</td>\n",
       "    </tr>\n",
       "    <tr>\n",
       "      <th>3</th>\n",
       "      <td>8</td>\n",
       "      <td>FR</td>\n",
       "      <td>8437 Bernicla est-il un objet transneptunien ?</td>\n",
       "      <td>8437 Bernicla est-il un objet transneptunien?\\...</td>\n",
       "      <td>meta-llama/Meta-Llama-3-8B-Instruct</td>\n",
       "      <td>[{'start': 46, 'prob': 0.33333333330000003, 'e...</td>\n",
       "      <td>[[71, 86], [90, 94], [184, 193], [269, 437], [...</td>\n",
       "    </tr>\n",
       "    <tr>\n",
       "      <th>4</th>\n",
       "      <td>9</td>\n",
       "      <td>EN</td>\n",
       "      <td>Over which state did Xiong Ai rule?</td>\n",
       "      <td>Xiong Ai was a Chinese warlord who lived duri...</td>\n",
       "      <td>TheBloke/Mistral-7B-Instruct-v0.2-GGUF</td>\n",
       "      <td>[{'start': 10, 'prob': 0.33333333330000003, 'e...</td>\n",
       "      <td>[[24, 31], [42, 48], [75, 87], [92, 123], [140...</td>\n",
       "    </tr>\n",
       "    <tr>\n",
       "      <th>5</th>\n",
       "      <td>10</td>\n",
       "      <td>ES</td>\n",
       "      <td>¿Desde cuándo el palacio Sándor en Budapest fu...</td>\n",
       "      <td>El palais Sândor (también conocido como Palais...</td>\n",
       "      <td>Iker/Llama-3-Instruct-Neurona-8b-v2</td>\n",
       "      <td>[{'start': 3, 'prob': 0.33333333330000003, 'en...</td>\n",
       "      <td>[[40, 73], [183, 196], [203, 206], [226, 243],...</td>\n",
       "    </tr>\n",
       "    <tr>\n",
       "      <th>6</th>\n",
       "      <td>11</td>\n",
       "      <td>ES</td>\n",
       "      <td>¿Qué país logró clasificar en último lugar a l...</td>\n",
       "      <td>El país que logra clasificarse en el último pu...</td>\n",
       "      <td>Iker/Llama-3-Instruct-Neurona-8b-v2</td>\n",
       "      <td>[{'start': 86, 'prob': 0.6666666667000001, 'en...</td>\n",
       "      <td>[[86, 115], [120, 129], [149, 161], [174, 180]...</td>\n",
       "    </tr>\n",
       "    <tr>\n",
       "      <th>7</th>\n",
       "      <td>12</td>\n",
       "      <td>ES</td>\n",
       "      <td>¿Qué características presentan los miembros de...</td>\n",
       "      <td>Los miudades de Cladotholus, Cladoscypha y Cla...</td>\n",
       "      <td>Iker/Llama-3-Instruct-Neurona-8b-v2</td>\n",
       "      <td>[{'start': 4, 'prob': 1.0, 'end': 12}, {'start...</td>\n",
       "      <td>[[4, 12], [16, 27], [29, 40], [43, 54], [100, ...</td>\n",
       "    </tr>\n",
       "  </tbody>\n",
       "</table>\n",
       "</div>"
      ],
      "text/plain": [
       "   id lang                                        model_input  \\\n",
       "0   1   EN  When was the restoration of the Sándor Palace ...   \n",
       "1   3   EN  Did the Scotland team debut in the UEFA Euro 1...   \n",
       "2   4   FR  Contre quelles équipes l'Azerbaïdjan a-t-il ét...   \n",
       "3   8   FR     8437 Bernicla est-il un objet transneptunien ?   \n",
       "4   9   EN                Over which state did Xiong Ai rule?   \n",
       "5  10   ES  ¿Desde cuándo el palacio Sándor en Budapest fu...   \n",
       "6  11   ES  ¿Qué país logró clasificar en último lugar a l...   \n",
       "7  12   ES  ¿Qué características presentan los miembros de...   \n",
       "\n",
       "                                   model_output_text  \\\n",
       "0   The restoration of Sándor Palace, also known ...   \n",
       "1   Yes, Scotland made their debut in the UEFA Eu...   \n",
       "2   L'équipe d'Azerbaïdjan n'a pas participé à l'...   \n",
       "3  8437 Bernicla est-il un objet transneptunien?\\...   \n",
       "4   Xiong Ai was a Chinese warlord who lived duri...   \n",
       "5  El palais Sândor (también conocido como Palais...   \n",
       "6  El país que logra clasificarse en el último pu...   \n",
       "7  Los miudades de Cladotholus, Cladoscypha y Cla...   \n",
       "\n",
       "                                 model_id  \\\n",
       "0  TheBloke/Mistral-7B-Instruct-v0.2-GGUF   \n",
       "1  TheBloke/Mistral-7B-Instruct-v0.2-GGUF   \n",
       "2  TheBloke/Mistral-7B-Instruct-v0.2-GGUF   \n",
       "3     meta-llama/Meta-Llama-3-8B-Instruct   \n",
       "4  TheBloke/Mistral-7B-Instruct-v0.2-GGUF   \n",
       "5     Iker/Llama-3-Instruct-Neurona-8b-v2   \n",
       "6     Iker/Llama-3-Instruct-Neurona-8b-v2   \n",
       "7     Iker/Llama-3-Instruct-Neurona-8b-v2   \n",
       "\n",
       "                                         soft_labels  \\\n",
       "0  [{'start': 33, 'prob': 0.33333333330000003, 'e...   \n",
       "1  [{'start': 1, 'prob': 0.6666666667000001, 'end...   \n",
       "2  [{'start': 1, 'prob': 0.33333333330000003, 'en...   \n",
       "3  [{'start': 46, 'prob': 0.33333333330000003, 'e...   \n",
       "4  [{'start': 10, 'prob': 0.33333333330000003, 'e...   \n",
       "5  [{'start': 3, 'prob': 0.33333333330000003, 'en...   \n",
       "6  [{'start': 86, 'prob': 0.6666666667000001, 'en...   \n",
       "7  [{'start': 4, 'prob': 1.0, 'end': 12}, {'start...   \n",
       "\n",
       "                                         hard_labels  \n",
       "0  [[53, 64], [151, 164], [165, 210], [211, 225],...  \n",
       "1  [[1, 4], [49, 53], [87, 103], [232, 246], [262...  \n",
       "2                  [[24, 55], [60, 162], [213, 320]]  \n",
       "3  [[71, 86], [90, 94], [184, 193], [269, 437], [...  \n",
       "4  [[24, 31], [42, 48], [75, 87], [92, 123], [140...  \n",
       "5  [[40, 73], [183, 196], [203, 206], [226, 243],...  \n",
       "6  [[86, 115], [120, 129], [149, 161], [174, 180]...  \n",
       "7  [[4, 12], [16, 27], [29, 40], [43, 54], [100, ...  "
      ]
     },
     "execution_count": 3,
     "metadata": {},
     "output_type": "execute_result"
    }
   ],
   "source": [
    "sample_df = pd.read_json(\"data_sets/sample/sample_set.v1.json\", lines=True)\n",
    "sample_df"
   ]
  },
  {
   "cell_type": "code",
   "execution_count": 4,
   "id": "61c81561-7135-4ec1-90dc-d771a2a6523a",
   "metadata": {},
   "outputs": [
    {
     "data": {
      "text/html": [
       "<div>\n",
       "<style scoped>\n",
       "    .dataframe tbody tr th:only-of-type {\n",
       "        vertical-align: middle;\n",
       "    }\n",
       "\n",
       "    .dataframe tbody tr th {\n",
       "        vertical-align: top;\n",
       "    }\n",
       "\n",
       "    .dataframe thead th {\n",
       "        text-align: right;\n",
       "    }\n",
       "</style>\n",
       "<table border=\"1\" class=\"dataframe\">\n",
       "  <thead>\n",
       "    <tr style=\"text-align: right;\">\n",
       "      <th></th>\n",
       "      <th>id</th>\n",
       "      <th>lang</th>\n",
       "      <th>model_input</th>\n",
       "      <th>model_output_text</th>\n",
       "      <th>model_id</th>\n",
       "      <th>soft_labels</th>\n",
       "      <th>hard_labels</th>\n",
       "      <th>model_output_logits</th>\n",
       "      <th>model_output_tokens</th>\n",
       "    </tr>\n",
       "  </thead>\n",
       "  <tbody>\n",
       "    <tr>\n",
       "      <th>0</th>\n",
       "      <td>val-en-1</td>\n",
       "      <td>EN</td>\n",
       "      <td>What did Petra van Staveren win a gold medal for?</td>\n",
       "      <td>Petra van Stoveren won a silver medal in the 2...</td>\n",
       "      <td>tiiuae/falcon-7b-instruct</td>\n",
       "      <td>[{'start': 10, 'prob': 0.2, 'end': 12}, {'star...</td>\n",
       "      <td>[[25, 31], [45, 49], [69, 83]]</td>\n",
       "      <td>[-5.5669536591, -11.90533638, -13.0743436813, ...</td>\n",
       "      <td>[Pet, ra, Ġvan, ĠSto, ve, ren, Ġwon, Ġa, Ġsilv...</td>\n",
       "    </tr>\n",
       "    <tr>\n",
       "      <th>1</th>\n",
       "      <td>val-en-2</td>\n",
       "      <td>EN</td>\n",
       "      <td>How many genera does the Erysiphales order con...</td>\n",
       "      <td>The Elysiphale order contains 5 genera.</td>\n",
       "      <td>tiiuae/falcon-7b-instruct</td>\n",
       "      <td>[{'start': 4, 'prob': 0.2, 'end': 14}, {'start...</td>\n",
       "      <td>[[30, 31]]</td>\n",
       "      <td>[-6.199614048, -13.7564926147, -14.0058326721,...</td>\n",
       "      <td>[The, ĠE, lys, iph, ale, Ġorder, Ġcontains, Ġ,...</td>\n",
       "    </tr>\n",
       "    <tr>\n",
       "      <th>2</th>\n",
       "      <td>val-en-3</td>\n",
       "      <td>EN</td>\n",
       "      <td>Do all arthropods have antennae?</td>\n",
       "      <td>Yes, all arachnids have antennas. However, not...</td>\n",
       "      <td>tiiuae/falcon-7b-instruct</td>\n",
       "      <td>[{'start': 0, 'prob': 0.6000000000000001, 'end...</td>\n",
       "      <td>[[0, 3], [9, 18], [63, 70], [78, 87]]</td>\n",
       "      <td>[-4.8190689087, -16.5279369354, -10.1344690323...</td>\n",
       "      <td>[Yes, ,, Ġall, Ġar, ach, n, ids, Ġhave, Ġanten...</td>\n",
       "    </tr>\n",
       "    <tr>\n",
       "      <th>3</th>\n",
       "      <td>val-en-4</td>\n",
       "      <td>EN</td>\n",
       "      <td>When did Chance the Rapper debut?</td>\n",
       "      <td>Chance the rapper debuted in 2011.</td>\n",
       "      <td>tiiuae/falcon-7b-instruct</td>\n",
       "      <td>[{'start': 18, 'prob': 0.0909090909, 'end': 29...</td>\n",
       "      <td>[[29, 33]]</td>\n",
       "      <td>[-6.2555613518, -10.9392805099, -13.1335763931...</td>\n",
       "      <td>[Ch, ance, Ġthe, Ġrapper, Ġdebuted, Ġin, Ġ, 20...</td>\n",
       "    </tr>\n",
       "    <tr>\n",
       "      <th>4</th>\n",
       "      <td>val-en-5</td>\n",
       "      <td>EN</td>\n",
       "      <td>What is the UN Sustainable Development Goal 11...</td>\n",
       "      <td>The UN's Sustainable City initiative defines a...</td>\n",
       "      <td>tiiuae/falcon-7b-instruct</td>\n",
       "      <td>[{'start': 0, 'prob': 0.0909090909, 'end': 9},...</td>\n",
       "      <td>[[70, 227]]</td>\n",
       "      <td>[-3.9737114906, -12.9197320938, -7.2846975327,...</td>\n",
       "      <td>[The, ĠUN, ', s, ĠSustainable, ĠCity, Ġinitiat...</td>\n",
       "    </tr>\n",
       "  </tbody>\n",
       "</table>\n",
       "</div>"
      ],
      "text/plain": [
       "         id lang                                        model_input  \\\n",
       "0  val-en-1   EN  What did Petra van Staveren win a gold medal for?   \n",
       "1  val-en-2   EN  How many genera does the Erysiphales order con...   \n",
       "2  val-en-3   EN                   Do all arthropods have antennae?   \n",
       "3  val-en-4   EN                  When did Chance the Rapper debut?   \n",
       "4  val-en-5   EN  What is the UN Sustainable Development Goal 11...   \n",
       "\n",
       "                                   model_output_text  \\\n",
       "0  Petra van Stoveren won a silver medal in the 2...   \n",
       "1            The Elysiphale order contains 5 genera.   \n",
       "2  Yes, all arachnids have antennas. However, not...   \n",
       "3                 Chance the rapper debuted in 2011.   \n",
       "4  The UN's Sustainable City initiative defines a...   \n",
       "\n",
       "                    model_id  \\\n",
       "0  tiiuae/falcon-7b-instruct   \n",
       "1  tiiuae/falcon-7b-instruct   \n",
       "2  tiiuae/falcon-7b-instruct   \n",
       "3  tiiuae/falcon-7b-instruct   \n",
       "4  tiiuae/falcon-7b-instruct   \n",
       "\n",
       "                                         soft_labels  \\\n",
       "0  [{'start': 10, 'prob': 0.2, 'end': 12}, {'star...   \n",
       "1  [{'start': 4, 'prob': 0.2, 'end': 14}, {'start...   \n",
       "2  [{'start': 0, 'prob': 0.6000000000000001, 'end...   \n",
       "3  [{'start': 18, 'prob': 0.0909090909, 'end': 29...   \n",
       "4  [{'start': 0, 'prob': 0.0909090909, 'end': 9},...   \n",
       "\n",
       "                             hard_labels  \\\n",
       "0         [[25, 31], [45, 49], [69, 83]]   \n",
       "1                             [[30, 31]]   \n",
       "2  [[0, 3], [9, 18], [63, 70], [78, 87]]   \n",
       "3                             [[29, 33]]   \n",
       "4                            [[70, 227]]   \n",
       "\n",
       "                                 model_output_logits  \\\n",
       "0  [-5.5669536591, -11.90533638, -13.0743436813, ...   \n",
       "1  [-6.199614048, -13.7564926147, -14.0058326721,...   \n",
       "2  [-4.8190689087, -16.5279369354, -10.1344690323...   \n",
       "3  [-6.2555613518, -10.9392805099, -13.1335763931...   \n",
       "4  [-3.9737114906, -12.9197320938, -7.2846975327,...   \n",
       "\n",
       "                                 model_output_tokens  \n",
       "0  [Pet, ra, Ġvan, ĠSto, ve, ren, Ġwon, Ġa, Ġsilv...  \n",
       "1  [The, ĠE, lys, iph, ale, Ġorder, Ġcontains, Ġ,...  \n",
       "2  [Yes, ,, Ġall, Ġar, ach, n, ids, Ġhave, Ġanten...  \n",
       "3  [Ch, ance, Ġthe, Ġrapper, Ġdebuted, Ġin, Ġ, 20...  \n",
       "4  [The, ĠUN, ', s, ĠSustainable, ĠCity, Ġinitiat...  "
      ]
     },
     "execution_count": 4,
     "metadata": {},
     "output_type": "execute_result"
    }
   ],
   "source": [
    "validation_en_df = pd.read_json(\"data_sets/validation/mushroom.en-val.v2.jsonl\", lines=True)\n",
    "validation_en_df.head()"
   ]
  },
  {
   "cell_type": "code",
   "execution_count": 5,
   "id": "d6a187e0-1699-4163-b80d-6dabc31bffe6",
   "metadata": {},
   "outputs": [
    {
     "data": {
      "text/html": [
       "<div>\n",
       "<style scoped>\n",
       "    .dataframe tbody tr th:only-of-type {\n",
       "        vertical-align: middle;\n",
       "    }\n",
       "\n",
       "    .dataframe tbody tr th {\n",
       "        vertical-align: top;\n",
       "    }\n",
       "\n",
       "    .dataframe thead th {\n",
       "        text-align: right;\n",
       "    }\n",
       "</style>\n",
       "<table border=\"1\" class=\"dataframe\">\n",
       "  <thead>\n",
       "    <tr style=\"text-align: right;\">\n",
       "      <th></th>\n",
       "      <th>lang</th>\n",
       "      <th>model_id</th>\n",
       "      <th>model_input</th>\n",
       "      <th>model_output_text</th>\n",
       "      <th>model_output_logits</th>\n",
       "      <th>model_output_tokens</th>\n",
       "    </tr>\n",
       "  </thead>\n",
       "  <tbody>\n",
       "    <tr>\n",
       "      <th>0</th>\n",
       "      <td>EN</td>\n",
       "      <td>togethercomputer/Pythia-Chat-Base-7B</td>\n",
       "      <td>Do all arthropods have antennae?</td>\n",
       "      <td>Yes, all insects and arachnids (including spi...</td>\n",
       "      <td>[-2.57427001, 5.1865358353, 5.4173498154, 2.32...</td>\n",
       "      <td>[ĠYes, ,, Ġall, Ġinsects, Ġand, Ġar, ach, n, i...</td>\n",
       "    </tr>\n",
       "    <tr>\n",
       "      <th>1</th>\n",
       "      <td>EN</td>\n",
       "      <td>togethercomputer/Pythia-Chat-Base-7B</td>\n",
       "      <td>Do all arthropods have antennae?</td>\n",
       "      <td>Yes, all insects and arachnids have at least ...</td>\n",
       "      <td>[-2.57427001, 5.1865358353, 5.4173498154, 2.32...</td>\n",
       "      <td>[ĠYes, ,, Ġall, Ġinsects, Ġand, Ġar, ach, n, i...</td>\n",
       "    </tr>\n",
       "    <tr>\n",
       "      <th>2</th>\n",
       "      <td>EN</td>\n",
       "      <td>togethercomputer/Pythia-Chat-Base-7B</td>\n",
       "      <td>Do all arthropods have antennae?</td>\n",
       "      <td>Yes, all insects and arachnids (including spi...</td>\n",
       "      <td>[-2.57427001, 5.1865358353, 5.4173498154, 2.32...</td>\n",
       "      <td>[ĠYes, ,, Ġall, Ġinsects, Ġand, Ġar, ach, n, i...</td>\n",
       "    </tr>\n",
       "    <tr>\n",
       "      <th>3</th>\n",
       "      <td>EN</td>\n",
       "      <td>togethercomputer/Pythia-Chat-Base-7B</td>\n",
       "      <td>Do all arthropods have antennae?</td>\n",
       "      <td>Yes, all insects and arachnids (including spi...</td>\n",
       "      <td>[-2.57427001, 5.1865358353, 5.4173498154, 2.32...</td>\n",
       "      <td>[ĠYes, ,, Ġall, Ġinsects, Ġand, Ġar, ach, n, i...</td>\n",
       "    </tr>\n",
       "    <tr>\n",
       "      <th>4</th>\n",
       "      <td>EN</td>\n",
       "      <td>togethercomputer/Pythia-Chat-Base-7B</td>\n",
       "      <td>Do all arthropods have antennae?</td>\n",
       "      <td>Yes, all insects and arachnids (including spi...</td>\n",
       "      <td>[-2.57427001, 5.1865358353, 5.4173498154, 2.32...</td>\n",
       "      <td>[ĠYes, ,, Ġall, Ġinsects, Ġand, Ġar, ach, n, i...</td>\n",
       "    </tr>\n",
       "  </tbody>\n",
       "</table>\n",
       "</div>"
      ],
      "text/plain": [
       "  lang                              model_id  \\\n",
       "0   EN  togethercomputer/Pythia-Chat-Base-7B   \n",
       "1   EN  togethercomputer/Pythia-Chat-Base-7B   \n",
       "2   EN  togethercomputer/Pythia-Chat-Base-7B   \n",
       "3   EN  togethercomputer/Pythia-Chat-Base-7B   \n",
       "4   EN  togethercomputer/Pythia-Chat-Base-7B   \n",
       "\n",
       "                        model_input  \\\n",
       "0  Do all arthropods have antennae?   \n",
       "1  Do all arthropods have antennae?   \n",
       "2  Do all arthropods have antennae?   \n",
       "3  Do all arthropods have antennae?   \n",
       "4  Do all arthropods have antennae?   \n",
       "\n",
       "                                   model_output_text  \\\n",
       "0   Yes, all insects and arachnids (including spi...   \n",
       "1   Yes, all insects and arachnids have at least ...   \n",
       "2   Yes, all insects and arachnids (including spi...   \n",
       "3   Yes, all insects and arachnids (including spi...   \n",
       "4   Yes, all insects and arachnids (including spi...   \n",
       "\n",
       "                                 model_output_logits  \\\n",
       "0  [-2.57427001, 5.1865358353, 5.4173498154, 2.32...   \n",
       "1  [-2.57427001, 5.1865358353, 5.4173498154, 2.32...   \n",
       "2  [-2.57427001, 5.1865358353, 5.4173498154, 2.32...   \n",
       "3  [-2.57427001, 5.1865358353, 5.4173498154, 2.32...   \n",
       "4  [-2.57427001, 5.1865358353, 5.4173498154, 2.32...   \n",
       "\n",
       "                                 model_output_tokens  \n",
       "0  [ĠYes, ,, Ġall, Ġinsects, Ġand, Ġar, ach, n, i...  \n",
       "1  [ĠYes, ,, Ġall, Ġinsects, Ġand, Ġar, ach, n, i...  \n",
       "2  [ĠYes, ,, Ġall, Ġinsects, Ġand, Ġar, ach, n, i...  \n",
       "3  [ĠYes, ,, Ġall, Ġinsects, Ġand, Ġar, ach, n, i...  \n",
       "4  [ĠYes, ,, Ġall, Ġinsects, Ġand, Ġar, ach, n, i...  "
      ]
     },
     "execution_count": 5,
     "metadata": {},
     "output_type": "execute_result"
    }
   ],
   "source": [
    "train_unlabeled_en_df = pd.read_json(\"data_sets/train_unlabeled/mushroom.en-train_nolabel.v1.jsonl\", lines=True)\n",
    "train_unlabeled_en_df.head()"
   ]
  },
  {
   "cell_type": "code",
   "execution_count": 6,
   "id": "b42b63f2-a4f2-46c0-8f18-7c48560c4735",
   "metadata": {},
   "outputs": [
    {
     "data": {
      "text/html": [
       "<div>\n",
       "<style scoped>\n",
       "    .dataframe tbody tr th:only-of-type {\n",
       "        vertical-align: middle;\n",
       "    }\n",
       "\n",
       "    .dataframe tbody tr th {\n",
       "        vertical-align: top;\n",
       "    }\n",
       "\n",
       "    .dataframe thead th {\n",
       "        text-align: right;\n",
       "    }\n",
       "</style>\n",
       "<table border=\"1\" class=\"dataframe\">\n",
       "  <thead>\n",
       "    <tr style=\"text-align: right;\">\n",
       "      <th></th>\n",
       "      <th>id</th>\n",
       "      <th>lang</th>\n",
       "      <th>model_input</th>\n",
       "      <th>model_output_text</th>\n",
       "      <th>model_id</th>\n",
       "      <th>model_output_tokens</th>\n",
       "      <th>model_output_logits</th>\n",
       "    </tr>\n",
       "  </thead>\n",
       "  <tbody>\n",
       "    <tr>\n",
       "      <th>0</th>\n",
       "      <td>tst-en-1</td>\n",
       "      <td>EN</td>\n",
       "      <td>Did Alberto Fouillioux ever play in a world cu...</td>\n",
       "      <td>No, Albero Foulois was not in any of the FIFA...</td>\n",
       "      <td>togethercomputer/Pythia-Chat-Base-7B</td>\n",
       "      <td>[ĠNo, ,, ĠAlber, o, ĠF, oul, ois, Ġwas, Ġnot, ...</td>\n",
       "      <td>[-2.2868447304, 4.7311220169, 0.10594719650000...</td>\n",
       "    </tr>\n",
       "    <tr>\n",
       "      <th>1</th>\n",
       "      <td>tst-en-2</td>\n",
       "      <td>EN</td>\n",
       "      <td>In which city was David Sandberg born?</td>\n",
       "      <td>David Sandburg was born in Stockholm, Sweden.</td>\n",
       "      <td>tiiuae/falcon-7b-instruct</td>\n",
       "      <td>[David, ĠSand, burg, Ġwas, Ġborn, Ġin, ĠStockh...</td>\n",
       "      <td>[-5.994849205, -14.9877281189, -11.5699691772,...</td>\n",
       "    </tr>\n",
       "    <tr>\n",
       "      <th>2</th>\n",
       "      <td>tst-en-3</td>\n",
       "      <td>EN</td>\n",
       "      <td>When did Andrei Kravchuk begin working on The ...</td>\n",
       "      <td>Andreï Krivochkin started working in the Ital...</td>\n",
       "      <td>togethercomputer/Pythia-Chat-Base-7B</td>\n",
       "      <td>[ĠAndre, Ã¯, ĠK, riv, och, kin, Ġstarted, Ġwor...</td>\n",
       "      <td>[-3.6730628014, 6.0303354263, 7.9428901672, -1...</td>\n",
       "    </tr>\n",
       "    <tr>\n",
       "      <th>3</th>\n",
       "      <td>tst-en-4</td>\n",
       "      <td>EN</td>\n",
       "      <td>In which French department is Mouthier-Haute-P...</td>\n",
       "      <td>Mouthier is located in the department of Haute...</td>\n",
       "      <td>tiiuae/falcon-7b-instruct</td>\n",
       "      <td>[M, outh, ier, Ġis, Ġlocated, Ġin, Ġthe, Ġdepa...</td>\n",
       "      <td>[-3.8519268036, -14.3682308197, -15.4611091614...</td>\n",
       "    </tr>\n",
       "    <tr>\n",
       "      <th>4</th>\n",
       "      <td>tst-en-5</td>\n",
       "      <td>EN</td>\n",
       "      <td>Where was Paul Egede sent to do his missionary...</td>\n",
       "      <td>Paul Eggede was sent by the Dutch East India C...</td>\n",
       "      <td>tiiuae/falcon-7b-instruct</td>\n",
       "      <td>[Paul, ĠE, gged, e, Ġwas, Ġsent, Ġby, Ġthe, ĠD...</td>\n",
       "      <td>[-6.1030082703, -12.9452104568, -10.9736461639...</td>\n",
       "    </tr>\n",
       "  </tbody>\n",
       "</table>\n",
       "</div>"
      ],
      "text/plain": [
       "         id lang                                        model_input  \\\n",
       "0  tst-en-1   EN  Did Alberto Fouillioux ever play in a world cu...   \n",
       "1  tst-en-2   EN             In which city was David Sandberg born?   \n",
       "2  tst-en-3   EN  When did Andrei Kravchuk begin working on The ...   \n",
       "3  tst-en-4   EN  In which French department is Mouthier-Haute-P...   \n",
       "4  tst-en-5   EN  Where was Paul Egede sent to do his missionary...   \n",
       "\n",
       "                                   model_output_text  \\\n",
       "0   No, Albero Foulois was not in any of the FIFA...   \n",
       "1      David Sandburg was born in Stockholm, Sweden.   \n",
       "2   Andreï Krivochkin started working in the Ital...   \n",
       "3  Mouthier is located in the department of Haute...   \n",
       "4  Paul Eggede was sent by the Dutch East India C...   \n",
       "\n",
       "                               model_id  \\\n",
       "0  togethercomputer/Pythia-Chat-Base-7B   \n",
       "1             tiiuae/falcon-7b-instruct   \n",
       "2  togethercomputer/Pythia-Chat-Base-7B   \n",
       "3             tiiuae/falcon-7b-instruct   \n",
       "4             tiiuae/falcon-7b-instruct   \n",
       "\n",
       "                                 model_output_tokens  \\\n",
       "0  [ĠNo, ,, ĠAlber, o, ĠF, oul, ois, Ġwas, Ġnot, ...   \n",
       "1  [David, ĠSand, burg, Ġwas, Ġborn, Ġin, ĠStockh...   \n",
       "2  [ĠAndre, Ã¯, ĠK, riv, och, kin, Ġstarted, Ġwor...   \n",
       "3  [M, outh, ier, Ġis, Ġlocated, Ġin, Ġthe, Ġdepa...   \n",
       "4  [Paul, ĠE, gged, e, Ġwas, Ġsent, Ġby, Ġthe, ĠD...   \n",
       "\n",
       "                                 model_output_logits  \n",
       "0  [-2.2868447304, 4.7311220169, 0.10594719650000...  \n",
       "1  [-5.994849205, -14.9877281189, -11.5699691772,...  \n",
       "2  [-3.6730628014, 6.0303354263, 7.9428901672, -1...  \n",
       "3  [-3.8519268036, -14.3682308197, -15.4611091614...  \n",
       "4  [-6.1030082703, -12.9452104568, -10.9736461639...  "
      ]
     },
     "execution_count": 6,
     "metadata": {},
     "output_type": "execute_result"
    }
   ],
   "source": [
    "test_unlabeled_en_df = pd.read_json(\"data_sets/test_unlabeled/mushroom.en-tst.v1.jsonl\", lines=True)\n",
    "test_unlabeled_en_df.head()"
   ]
  },
  {
   "cell_type": "code",
   "execution_count": 7,
   "id": "e6f8d732-dd21-4a7b-8cbf-8aa5586e360d",
   "metadata": {},
   "outputs": [],
   "source": [
    "import os\n",
    "from datetime import datetime\n",
    "\n",
    "def baseline_model(mode=\"train\", output_path=\"./results\", data_path=\"data_sets/validation\", test_lang=\"ar\"):\n",
    "    !python participant_kit/baseline_model.py --mode {mode} --model_checkpoint {output_path} --data_path {data_path} --test_lang {test_lang}\n",
    "    if mode==\"test\":\n",
    "        test_output_path = os.path.join(\"test\", output_path)\n",
    "        if not os.path.exists(test_output_path):\n",
    "            os.makedirs(test_output_path)\n",
    "        def get_unique_filename(filename):\n",
    "            base, ext = os.path.splitext(filename)\n",
    "            current_time = datetime.now().strftime(\"%Y%m%d_%H%M%S\")\n",
    "            new_filename = f\"{base}-{current_time}{ext}\"\n",
    "            return new_filename\n",
    "        for filename in [f\"{test_lang}-hard_labels.json\", f\"{test_lang}-soft_labels.json\", f\"{test_lang}-pred.jsonl\"]:\n",
    "            os.rename(filename, os.path.join(test_output_path, get_unique_filename(filename)))"
   ]
  },
  {
   "cell_type": "code",
   "execution_count": 8,
   "id": "4cbeda95-310a-45d5-aa07-e41c85eb535a",
   "metadata": {
    "scrolled": true
   },
   "outputs": [
    {
     "name": "stdout",
     "output_type": "stream",
     "text": [
      "tokenized_datasets:"
     ]
    },
    {
     "name": "stderr",
     "output_type": "stream",
     "text": [
      "Some weights of XLMRobertaForTokenClassification were not initialized from the model checkpoint at FacebookAI/xlm-roberta-base and are newly initialized: ['classifier.bias', 'classifier.weight']"
     ]
    },
    {
     "name": "stdout",
     "output_type": "stream",
     "text": [
      "\n"
     ]
    },
    {
     "name": "stderr",
     "output_type": "stream",
     "text": [
      "\n"
     ]
    },
    {
     "name": "stdout",
     "output_type": "stream",
     "text": [
      " DatasetDict({\n"
     ]
    },
    {
     "name": "stderr",
     "output_type": "stream",
     "text": [
      "You should probably TRAIN this model on a down-stream task to be able to use it for predictions and inference."
     ]
    },
    {
     "name": "stdout",
     "output_type": "stream",
     "text": [
      "    train: Dataset({"
     ]
    },
    {
     "name": "stderr",
     "output_type": "stream",
     "text": [
      "\n",
      "C:\\Users\\Simov\\Desktop\\Projects\\NLP\\Projects\\venv\\Lib\\site-packages\\transformers\\training_args.py:1575: FutureWarning: `evaluation_strategy` is deprecated and will be removed in version 4.46 of \\U0001f917 Transformers. Use `eval_strategy` instead"
     ]
    },
    {
     "name": "stdout",
     "output_type": "stream",
     "text": [
      "\n"
     ]
    },
    {
     "name": "stderr",
     "output_type": "stream",
     "text": [
      "\n"
     ]
    },
    {
     "name": "stdout",
     "output_type": "stream",
     "text": [
      "        features: ['id', 'lang', 'model_input', 'model_output_text', 'model_id', 'soft_labels', 'hard_labels', 'model_output_tokens', 'model_output_logits', 'input_ids', 'attention_mask', 'offset_mapping', 'labels'],\n"
     ]
    },
    {
     "name": "stderr",
     "output_type": "stream",
     "text": [
      "  warnings.warn("
     ]
    },
    {
     "name": "stdout",
     "output_type": "stream",
     "text": [
      "        num_rows: 449"
     ]
    },
    {
     "name": "stderr",
     "output_type": "stream",
     "text": [
      "\n"
     ]
    },
    {
     "name": "stdout",
     "output_type": "stream",
     "text": [
      "\n"
     ]
    },
    {
     "name": "stderr",
     "output_type": "stream",
     "text": [
      "C:\\Users\\Simov\\Desktop\\Projects\\NLP\\Projects\\SemEval-2025_Task-3\\participant_kit\\baseline_model.py:62: FutureWarning: load_metric is deprecated and will be removed in the next major version of datasets. Use 'evaluate.load' instead, from the new library \\U0001f917 Evaluate: https://huggingface.co/docs/evaluate"
     ]
    },
    {
     "name": "stdout",
     "output_type": "stream",
     "text": [
      "    })"
     ]
    },
    {
     "name": "stderr",
     "output_type": "stream",
     "text": [
      "\n"
     ]
    },
    {
     "name": "stdout",
     "output_type": "stream",
     "text": [
      "\n"
     ]
    },
    {
     "name": "stderr",
     "output_type": "stream",
     "text": [
      "  metric = load_metric('seqeval', trust_remote_code=True)"
     ]
    },
    {
     "name": "stdout",
     "output_type": "stream",
     "text": [
      "    validation: Dataset({\n"
     ]
    },
    {
     "name": "stderr",
     "output_type": "stream",
     "text": [
      "\n"
     ]
    },
    {
     "name": "stdout",
     "output_type": "stream",
     "text": [
      "        features: ['id', 'lang', 'model_input', 'model_output_text', 'model_id', 'soft_labels', 'hard_labels', 'model_output_tokens', 'model_output_logits', 'input_ids', 'attention_mask', 'offset_mapping', 'labels'],"
     ]
    },
    {
     "name": "stderr",
     "output_type": "stream",
     "text": [
      "wandb: WARNING The `run_name` is currently set to the same value as `TrainingArguments.output_dir`. If this was not intended, please specify a different run name by setting the `TrainingArguments.run_name` parameter."
     ]
    },
    {
     "name": "stdout",
     "output_type": "stream",
     "text": [
      "\n"
     ]
    },
    {
     "name": "stderr",
     "output_type": "stream",
     "text": [
      "\n"
     ]
    },
    {
     "name": "stdout",
     "output_type": "stream",
     "text": [
      "        num_rows: 50"
     ]
    },
    {
     "name": "stderr",
     "output_type": "stream",
     "text": [
      "wandb: Currently logged in as: kr1s1m (tsvetan-tsvetanov-tsvetanov-su). Use `wandb login --relogin` to force relogin"
     ]
    },
    {
     "name": "stdout",
     "output_type": "stream",
     "text": [
      "\n"
     ]
    },
    {
     "name": "stderr",
     "output_type": "stream",
     "text": [
      "\n"
     ]
    },
    {
     "name": "stdout",
     "output_type": "stream",
     "text": [
      "    })"
     ]
    },
    {
     "name": "stderr",
     "output_type": "stream",
     "text": [
      "wandb: Using wandb-core as the SDK backend.  Please refer to https://wandb.me/wandb-core for more information."
     ]
    },
    {
     "name": "stdout",
     "output_type": "stream",
     "text": [
      "\n"
     ]
    },
    {
     "name": "stderr",
     "output_type": "stream",
     "text": [
      "\n",
      "wandb: Tracking run with wandb version 0.19.4"
     ]
    },
    {
     "name": "stdout",
     "output_type": "stream",
     "text": [
      "})\n"
     ]
    },
    {
     "name": "stderr",
     "output_type": "stream",
     "text": [
      "\n",
      "wandb: Run data is saved locally in C:\\Users\\Simov\\Desktop\\Projects\\NLP\\Projects\\SemEval-2025_Task-3\\wandb\\run-20250127_052120-b2ejg1ql"
     ]
    },
    {
     "name": "stdout",
     "output_type": "stream",
     "text": [
      "{'eval_loss': 0.21850624680519104, 'eval_precision': 0.0, 'eval_recall': 0.0, 'eval_f1': 0.0, 'eval_accuracy': 0.9454285714285714, 'eval_runtime': 6.9904, 'eval_samples_per_second': 7.153, 'eval_steps_per_second': 0.572, 'epoch': 1.0}\n"
     ]
    },
    {
     "name": "stderr",
     "output_type": "stream",
     "text": [
      "\n"
     ]
    },
    {
     "name": "stdout",
     "output_type": "stream",
     "text": [
      "{'eval_loss': 0.18377159535884857, 'eval_precision': 0.0, 'eval_recall': 0.0, 'eval_f1': 0.0, 'eval_accuracy': 0.9453142857142857, 'eval_runtime': 7.0482, 'eval_samples_per_second': 7.094, 'eval_steps_per_second': 0.568, 'epoch': 2.0}"
     ]
    },
    {
     "name": "stderr",
     "output_type": "stream",
     "text": [
      "wandb: Run `wandb offline` to turn off syncing."
     ]
    },
    {
     "name": "stdout",
     "output_type": "stream",
     "text": [
      "\n"
     ]
    },
    {
     "name": "stderr",
     "output_type": "stream",
     "text": [
      "\n"
     ]
    },
    {
     "name": "stdout",
     "output_type": "stream",
     "text": [
      "{'eval_loss': 0.15908600389957428, 'eval_precision': 0.0, 'eval_recall': 0.0, 'eval_f1': 0.0, 'eval_accuracy': 0.9453142857142857, 'eval_runtime': 6.9203, 'eval_samples_per_second': 7.225, 'eval_steps_per_second': 0.578, 'epoch': 3.0}"
     ]
    },
    {
     "name": "stderr",
     "output_type": "stream",
     "text": [
      "wandb: Syncing run ./results"
     ]
    },
    {
     "name": "stdout",
     "output_type": "stream",
     "text": [
      "\n"
     ]
    },
    {
     "name": "stderr",
     "output_type": "stream",
     "text": [
      "\n"
     ]
    },
    {
     "name": "stdout",
     "output_type": "stream",
     "text": [
      "{'eval_loss': 0.1611601859331131, 'eval_precision': 0.0, 'eval_recall': 0.0, 'eval_f1': 0.0, 'eval_accuracy': 0.9422857142857143, 'eval_runtime': 6.8086, 'eval_samples_per_second': 7.344, 'eval_steps_per_second': 0.587, 'epoch': 4.0}"
     ]
    },
    {
     "name": "stderr",
     "output_type": "stream",
     "text": [
      "wandb:  View project at https://wandb.ai/tsvetan-tsvetanov-tsvetanov-su/huggingface"
     ]
    },
    {
     "name": "stdout",
     "output_type": "stream",
     "text": [
      "\n"
     ]
    },
    {
     "name": "stderr",
     "output_type": "stream",
     "text": [
      "\n"
     ]
    },
    {
     "name": "stdout",
     "output_type": "stream",
     "text": [
      "{'eval_loss': 0.1585235744714737, 'eval_precision': 0.0, 'eval_recall': 0.0, 'eval_f1': 0.0, 'eval_accuracy': 0.9438285714285715, 'eval_runtime': 7.0208, 'eval_samples_per_second': 7.122, 'eval_steps_per_second': 0.57, 'epoch': 5.0}"
     ]
    },
    {
     "name": "stderr",
     "output_type": "stream",
     "text": [
      "wandb:  View run at https://wandb.ai/tsvetan-tsvetanov-tsvetanov-su/huggingface/runs/b2ejg1ql"
     ]
    },
    {
     "name": "stdout",
     "output_type": "stream",
     "text": [
      "\n"
     ]
    },
    {
     "name": "stderr",
     "output_type": "stream",
     "text": [
      "\n"
     ]
    },
    {
     "name": "stdout",
     "output_type": "stream",
     "text": [
      "{'train_runtime': 1711.5945, 'train_samples_per_second': 1.312, 'train_steps_per_second': 0.085, 'train_loss': 0.2986406786688443, 'epoch': 5.0}"
     ]
    },
    {
     "name": "stderr",
     "output_type": "stream",
     "text": [
      "\n"
     ]
    },
    {
     "name": "stdout",
     "output_type": "stream",
     "text": [
      "\n"
     ]
    },
    {
     "name": "stderr",
     "output_type": "stream",
     "text": [
      "  0%|          | 0/145 [00:00<?, ?it/s]"
     ]
    },
    {
     "name": "stdout",
     "output_type": "stream",
     "text": [
      "Model trained and evaluated successfully. Model checkpoint saved in ./results"
     ]
    },
    {
     "name": "stderr",
     "output_type": "stream",
     "text": [
      "\n"
     ]
    },
    {
     "name": "stdout",
     "output_type": "stream",
     "text": [
      "\n"
     ]
    },
    {
     "name": "stderr",
     "output_type": "stream",
     "text": [
      "  1%|          | 1/145 [00:11<28:22, 11.82s/it]"
     ]
    },
    {
     "name": "stdout",
     "output_type": "stream",
     "text": [
      "wandb"
     ]
    },
    {
     "name": "stderr",
     "output_type": "stream",
     "text": [
      "\n"
     ]
    },
    {
     "name": "stdout",
     "output_type": "stream",
     "text": [
      ": "
     ]
    },
    {
     "name": "stderr",
     "output_type": "stream",
     "text": [
      "  1%|1         | 2/145 [00:24<28:55, 12.13s/it]"
     ]
    },
    {
     "name": "stdout",
     "output_type": "stream",
     "text": [
      "\n"
     ]
    },
    {
     "name": "stderr",
     "output_type": "stream",
     "text": [
      "\n"
     ]
    },
    {
     "name": "stdout",
     "output_type": "stream",
     "text": [
      "wandb: ðŸš€ View run "
     ]
    },
    {
     "name": "stderr",
     "output_type": "stream",
     "text": [
      "  2%|2         | 3/145 [00:36<28:48, 12.17s/it]"
     ]
    },
    {
     "name": "stdout",
     "output_type": "stream",
     "text": [
      "./results"
     ]
    },
    {
     "name": "stderr",
     "output_type": "stream",
     "text": [
      "\n"
     ]
    },
    {
     "name": "stdout",
     "output_type": "stream",
     "text": [
      " at: "
     ]
    },
    {
     "name": "stderr",
     "output_type": "stream",
     "text": [
      "  3%|2         | 4/145 [00:48<28:39, 12.20s/it]\n"
     ]
    },
    {
     "name": "stdout",
     "output_type": "stream",
     "text": [
      "https://wandb.ai/tsvetan-tsvetanov-tsvetanov-su/huggingface/runs/b2ejg1ql\n"
     ]
    },
    {
     "name": "stderr",
     "output_type": "stream",
     "text": [
      "  3%|3         | 5/145 [01:00<28:26, 12.19s/it]"
     ]
    },
    {
     "name": "stdout",
     "output_type": "stream",
     "text": [
      "wandb"
     ]
    },
    {
     "name": "stderr",
     "output_type": "stream",
     "text": [
      "\n"
     ]
    },
    {
     "name": "stdout",
     "output_type": "stream",
     "text": [
      ": Find logs at: "
     ]
    },
    {
     "name": "stderr",
     "output_type": "stream",
     "text": [
      "  4%|4         | 6/145 [01:13<28:25, 12.27s/it]"
     ]
    },
    {
     "name": "stdout",
     "output_type": "stream",
     "text": [
      "wandb\\run-20250127_052120-b2ejg1ql\\logs"
     ]
    },
    {
     "name": "stderr",
     "output_type": "stream",
     "text": [
      "\n"
     ]
    },
    {
     "name": "stdout",
     "output_type": "stream",
     "text": [
      "\n"
     ]
    },
    {
     "name": "stderr",
     "output_type": "stream",
     "text": [
      "  5%|4         | 7/145 [01:25<28:20, 12.32s/it]\n",
      "  6%|5         | 8/145 [01:37<28:07, 12.31s/it]\n",
      "  6%|6         | 9/145 [01:50<27:46, 12.25s/it]\n",
      "  7%|6         | 10/145 [02:02<27:29, 12.22s/it]\n",
      "  8%|7         | 11/145 [02:14<27:25, 12.28s/it]\n",
      "  8%|8         | 12/145 [02:26<27:15, 12.30s/it]\n",
      "  9%|8         | 13/145 [02:39<26:58, 12.26s/it]\n",
      " 10%|9         | 14/145 [02:51<26:39, 12.21s/it]\n",
      " 10%|#         | 15/145 [03:03<26:30, 12.24s/it]\n",
      " 11%|#1        | 16/145 [03:15<26:13, 12.20s/it]\n",
      " 12%|#1        | 17/145 [03:27<25:52, 12.13s/it]\n",
      " 12%|#2        | 18/145 [03:39<25:42, 12.15s/it]\n",
      " 13%|#3        | 19/145 [03:52<25:33, 12.17s/it]\n",
      " 14%|#3        | 20/145 [04:04<25:27, 12.22s/it]\n",
      " 14%|#4        | 21/145 [04:16<25:22, 12.28s/it]\n",
      " 15%|#5        | 22/145 [04:29<25:13, 12.31s/it]\n",
      " 16%|#5        | 23/145 [04:41<25:04, 12.33s/it]\n",
      " 17%|#6        | 24/145 [04:53<24:54, 12.36s/it]\n",
      " 17%|#7        | 25/145 [05:06<24:43, 12.36s/it]\n",
      " 18%|#7        | 26/145 [05:18<24:28, 12.34s/it]\n",
      " 19%|#8        | 27/145 [05:30<24:09, 12.29s/it]\n",
      " 19%|#9        | 28/145 [05:43<23:54, 12.26s/it]\n",
      " 20%|##        | 29/145 [05:44<17:21,  8.98s/it]\n",
      "\n",
      "  0%|          | 0/4 [00:00<?, ?it/s]\n",
      "\n",
      " 50%|#####     | 2/4 [00:02<00:02,  1.06s/it]\n",
      "\n",
      " 75%|#######5  | 3/4 [00:04<00:01,  1.51s/it]\n",
      "\n",
      "100%|##########| 4/4 [00:04<00:00,  1.05s/it]C:\\Users\\Simov\\Desktop\\Projects\\NLP\\Projects\\venv\\Lib\\site-packages\\seqeval\\metrics\\sequence_labeling.py:171: UserWarning: 0 seems not to be NE tag.\n",
      "  warnings.warn('{} seems not to be NE tag.'.format(chunk))\n",
      "C:\\Users\\Simov\\Desktop\\Projects\\NLP\\Projects\\venv\\Lib\\site-packages\\seqeval\\metrics\\sequence_labeling.py:171: UserWarning: 1 seems not to be NE tag.\n",
      "  warnings.warn('{} seems not to be NE tag.'.format(chunk))\n",
      "C:\\Users\\Simov\\Desktop\\Projects\\NLP\\Projects\\venv\\Lib\\site-packages\\seqeval\\metrics\\v1.py:57: UndefinedMetricWarning: Precision and F-score are ill-defined and being set to 0.0 due to no predicted samples. Use `zero_division` parameter to control this behavior.\n",
      "  _warn_prf(average, modifier, msg_start, len(result))\n",
      "C:\\Users\\Simov\\Desktop\\Projects\\NLP\\Projects\\venv\\Lib\\site-packages\\seqeval\\metrics\\v1.py:57: UndefinedMetricWarning: Recall and F-score are ill-defined and being set to 0.0 due to no true samples. Use `zero_division` parameter to control this behavior.\n",
      "  _warn_prf(average, modifier, msg_start, len(result))\n",
      "C:\\Users\\Simov\\Desktop\\Projects\\NLP\\Projects\\venv\\Lib\\site-packages\\numpy\\lib\\_function_base_impl.py:552: RuntimeWarning: Mean of empty slice.\n",
      "  avg = a.mean(axis, **keepdims_kw)\n",
      "C:\\Users\\Simov\\Desktop\\Projects\\NLP\\Projects\\venv\\Lib\\site-packages\\numpy\\_core\\_methods.py:145: RuntimeWarning: invalid value encountered in scalar divide\n",
      "  ret = ret.dtype.type(ret / rcount)\n",
      "\n",
      "                                                \n",
      "\n",
      "\n",
      "                                             \n",
      "\n",
      " 20%|##        | 29/145 [05:51<17:21,  8.98s/it]\n",
      "\n",
      "100%|##########| 4/4 [00:04<00:00,  1.05s/it]\n",
      "\n",
      "                                             \n",
      " 21%|##        | 30/145 [06:03<23:03, 12.03s/it]\n",
      " 21%|##1       | 31/145 [06:15<22:56, 12.07s/it]\n",
      " 22%|##2       | 32/145 [06:27<22:50, 12.13s/it]\n",
      " 23%|##2       | 33/145 [06:40<22:44, 12.18s/it]\n",
      " 23%|##3       | 34/145 [06:52<22:33, 12.20s/it]\n",
      " 24%|##4       | 35/145 [07:04<22:25, 12.23s/it]\n",
      " 25%|##4       | 36/145 [07:17<22:15, 12.25s/it]\n",
      " 26%|##5       | 37/145 [07:29<22:01, 12.23s/it]\n",
      " 26%|##6       | 38/145 [07:41<21:48, 12.23s/it]\n",
      " 27%|##6       | 39/145 [07:53<21:34, 12.21s/it]\n",
      " 28%|##7       | 40/145 [08:05<21:23, 12.22s/it]\n",
      " 28%|##8       | 41/145 [08:18<21:14, 12.25s/it]\n",
      " 29%|##8       | 42/145 [08:30<21:03, 12.27s/it]\n",
      " 30%|##9       | 43/145 [08:42<20:51, 12.27s/it]\n",
      " 30%|###       | 44/145 [08:55<20:39, 12.27s/it]\n",
      " 31%|###1      | 45/145 [09:07<20:26, 12.27s/it]\n",
      " 32%|###1      | 46/145 [09:19<20:13, 12.26s/it]\n",
      " 32%|###2      | 47/145 [09:31<20:00, 12.25s/it]\n",
      " 33%|###3      | 48/145 [09:44<19:48, 12.25s/it]\n",
      " 34%|###3      | 49/145 [09:56<19:37, 12.26s/it]\n",
      " 34%|###4      | 50/145 [10:08<19:24, 12.26s/it]\n",
      " 35%|###5      | 51/145 [10:20<19:09, 12.23s/it]\n",
      " 36%|###5      | 52/145 [10:32<18:54, 12.20s/it]\n",
      " 37%|###6      | 53/145 [10:45<18:41, 12.19s/it]\n",
      " 37%|###7      | 54/145 [10:57<18:27, 12.17s/it]\n",
      " 38%|###7      | 55/145 [11:09<18:17, 12.19s/it]\n",
      " 39%|###8      | 56/145 [11:21<18:05, 12.19s/it]\n",
      " 39%|###9      | 57/145 [11:33<17:54, 12.21s/it]\n",
      " 40%|####      | 58/145 [11:35<12:57,  8.94s/it]\n",
      "\n",
      "  0%|          | 0/4 [00:00<?, ?it/s]\n",
      "\n",
      " 50%|#####     | 2/4 [00:02<00:02,  1.10s/it]\n",
      "\n",
      " 75%|#######5  | 3/4 [00:04<00:01,  1.55s/it]\n",
      "\n",
      "100%|##########| 4/4 [00:04<00:00,  1.07s/it]\n",
      "                                                \n",
      "\n",
      "\n",
      "                                             \n",
      "\n",
      " 40%|####      | 58/145 [11:42<12:57,  8.94s/it]\n",
      "\n",
      "100%|##########| 4/4 [00:04<00:00,  1.07s/it]\n",
      "\n",
      "                                             \n",
      " 41%|####      | 59/145 [11:54<17:14, 12.02s/it]\n",
      " 41%|####1     | 60/145 [12:06<17:04, 12.05s/it]\n",
      " 42%|####2     | 61/145 [12:18<16:55, 12.09s/it]\n",
      " 43%|####2     | 62/145 [12:30<16:48, 12.15s/it]\n",
      " 43%|####3     | 63/145 [12:43<16:39, 12.19s/it]\n",
      " 44%|####4     | 64/145 [12:55<16:28, 12.21s/it]\n",
      " 45%|####4     | 65/145 [13:07<16:16, 12.21s/it]\n",
      " 46%|####5     | 66/145 [13:19<16:03, 12.19s/it]\n",
      " 46%|####6     | 67/145 [13:32<15:50, 12.18s/it]\n",
      " 47%|####6     | 68/145 [13:44<15:38, 12.19s/it]\n",
      " 48%|####7     | 69/145 [13:56<15:27, 12.20s/it]\n",
      " 48%|####8     | 70/145 [14:08<15:14, 12.19s/it]\n",
      " 49%|####8     | 71/145 [14:20<15:03, 12.21s/it]\n",
      " 50%|####9     | 72/145 [14:33<14:50, 12.20s/it]\n",
      " 50%|#####     | 73/145 [14:45<14:37, 12.19s/it]\n",
      " 51%|#####1    | 74/145 [14:57<14:24, 12.17s/it]\n",
      " 52%|#####1    | 75/145 [15:09<14:12, 12.17s/it]\n",
      " 52%|#####2    | 76/145 [15:21<14:00, 12.18s/it]\n",
      " 53%|#####3    | 77/145 [15:33<13:49, 12.20s/it]\n",
      " 54%|#####3    | 78/145 [15:46<13:37, 12.19s/it]\n",
      " 54%|#####4    | 79/145 [15:58<13:25, 12.20s/it]\n",
      " 55%|#####5    | 80/145 [16:10<13:12, 12.19s/it]\n",
      " 56%|#####5    | 81/145 [16:22<12:59, 12.18s/it]\n",
      " 57%|#####6    | 82/145 [16:34<12:47, 12.18s/it]\n",
      " 57%|#####7    | 83/145 [16:47<12:35, 12.19s/it]\n",
      " 58%|#####7    | 84/145 [16:59<12:24, 12.20s/it]\n",
      " 59%|#####8    | 85/145 [17:11<12:11, 12.20s/it]\n",
      " 59%|#####9    | 86/145 [17:23<11:59, 12.19s/it]\n",
      " 60%|######    | 87/145 [17:25<08:38,  8.93s/it]\n",
      "\n",
      "  0%|          | 0/4 [00:00<?, ?it/s]\n",
      "\n",
      " 50%|#####     | 2/4 [00:02<00:02,  1.11s/it]\n",
      "\n",
      " 75%|#######5  | 3/4 [00:04<00:01,  1.56s/it]\n",
      "\n",
      "100%|##########| 4/4 [00:04<00:00,  1.08s/it]\n",
      "                                                \n",
      "\n",
      "\n",
      "                                             \n",
      "\n",
      " 60%|######    | 87/145 [17:31<08:38,  8.93s/it]\n",
      "\n",
      "100%|##########| 4/4 [00:04<00:00,  1.08s/it]\n",
      "\n",
      "                                             \n",
      " 61%|######    | 88/145 [17:42<10:48, 11.38s/it]\n",
      " 61%|######1   | 89/145 [17:51<10:12, 10.93s/it]\n",
      " 62%|######2   | 90/145 [18:01<09:40, 10.56s/it]\n",
      " 63%|######2   | 91/145 [18:11<09:20, 10.37s/it]\n",
      " 63%|######3   | 92/145 [18:21<09:04, 10.27s/it]\n",
      " 64%|######4   | 93/145 [18:31<08:49, 10.18s/it]\n",
      " 65%|######4   | 94/145 [18:41<08:36, 10.13s/it]\n",
      " 66%|######5   | 95/145 [18:51<08:25, 10.11s/it]\n",
      " 66%|######6   | 96/145 [19:01<08:15, 10.10s/it]\n",
      " 67%|######6   | 97/145 [19:11<08:03, 10.08s/it]\n",
      " 68%|######7   | 98/145 [19:21<07:51, 10.02s/it]\n",
      " 68%|######8   | 99/145 [19:31<07:42, 10.06s/it]\n",
      " 69%|######8   | 100/145 [19:41<07:29, 10.00s/it]\n",
      " 70%|######9   | 101/145 [19:51<07:20, 10.01s/it]\n",
      " 70%|#######   | 102/145 [20:02<07:23, 10.30s/it]\n",
      " 71%|#######1  | 103/145 [20:14<07:32, 10.78s/it]\n",
      " 72%|#######1  | 104/145 [20:26<07:34, 11.09s/it]\n",
      " 72%|#######2  | 105/145 [20:38<07:33, 11.33s/it]\n",
      " 73%|#######3  | 106/145 [20:50<07:28, 11.49s/it]\n",
      " 74%|#######3  | 107/145 [21:02<07:20, 11.59s/it]\n",
      " 74%|#######4  | 108/145 [21:13<07:11, 11.67s/it]\n",
      " 75%|#######5  | 109/145 [21:25<07:01, 11.72s/it]\n",
      " 76%|#######5  | 110/145 [21:37<06:51, 11.77s/it]\n",
      " 77%|#######6  | 111/145 [21:49<06:41, 11.81s/it]\n",
      " 77%|#######7  | 112/145 [22:01<06:30, 11.83s/it]\n",
      " 78%|#######7  | 113/145 [22:13<06:19, 11.85s/it]\n",
      " 79%|#######8  | 114/145 [22:25<06:08, 11.88s/it]\n",
      " 79%|#######9  | 115/145 [22:37<05:56, 11.88s/it]\n",
      " 80%|########  | 116/145 [22:38<04:12,  8.72s/it]\n",
      "\n",
      "  0%|          | 0/4 [00:00<?, ?it/s]\n",
      "\n",
      " 50%|#####     | 2/4 [00:02<00:02,  1.08s/it]\n",
      "\n",
      " 75%|#######5  | 3/4 [00:04<00:01,  1.49s/it]\n",
      "\n",
      "100%|##########| 4/4 [00:04<00:00,  1.04s/it]\n",
      "                                                 \n",
      "\n",
      "\n",
      "                                             \n",
      "\n",
      " 80%|########  | 116/145 [22:45<04:12,  8.72s/it]\n",
      "\n",
      "100%|##########| 4/4 [00:04<00:00,  1.04s/it]\n",
      "\n",
      "                                             \n",
      " 81%|########  | 117/145 [22:57<05:27, 11.71s/it]\n",
      " 81%|########1 | 118/145 [23:08<05:17, 11.75s/it]\n",
      " 82%|########2 | 119/145 [23:20<05:06, 11.79s/it]\n",
      " 83%|########2 | 120/145 [23:32<04:56, 11.84s/it]\n",
      " 83%|########3 | 121/145 [23:44<04:44, 11.87s/it]\n",
      " 84%|########4 | 122/145 [23:56<04:33, 11.88s/it]\n",
      " 85%|########4 | 123/145 [24:08<04:21, 11.90s/it]\n",
      " 86%|########5 | 124/145 [24:20<04:09, 11.90s/it]\n",
      " 86%|########6 | 125/145 [24:32<03:58, 11.92s/it]\n",
      " 87%|########6 | 126/145 [24:44<03:46, 11.94s/it]\n",
      " 88%|########7 | 127/145 [24:56<03:34, 11.91s/it]\n",
      " 88%|########8 | 128/145 [25:08<03:22, 11.90s/it]\n",
      " 89%|########8 | 129/145 [25:20<03:10, 11.91s/it]\n",
      " 90%|########9 | 130/145 [25:32<02:58, 11.92s/it]\n",
      " 90%|######### | 131/145 [25:44<02:47, 11.94s/it]\n",
      " 91%|#########1| 132/145 [25:55<02:35, 11.94s/it]\n",
      " 92%|#########1| 133/145 [26:07<02:23, 11.93s/it]\n",
      " 92%|#########2| 134/145 [26:19<02:11, 11.95s/it]\n",
      " 93%|#########3| 135/145 [26:31<01:59, 11.92s/it]\n",
      " 94%|#########3| 136/145 [26:43<01:47, 11.93s/it]\n",
      " 94%|#########4| 137/145 [26:55<01:35, 11.92s/it]\n",
      " 95%|#########5| 138/145 [27:07<01:23, 11.92s/it]\n",
      " 96%|#########5| 139/145 [27:19<01:11, 11.89s/it]\n",
      " 97%|#########6| 140/145 [27:31<00:59, 11.90s/it]\n",
      " 97%|#########7| 141/145 [27:43<00:47, 11.91s/it]\n",
      " 98%|#########7| 142/145 [27:55<00:35, 11.93s/it]\n",
      " 99%|#########8| 143/145 [28:07<00:23, 11.97s/it]\n",
      " 99%|#########9| 144/145 [28:19<00:11, 11.97s/it]\n",
      "100%|##########| 145/145 [28:20<00:00,  8.78s/it]\n",
      "\n",
      "  0%|          | 0/4 [00:00<?, ?it/s]\n",
      "\n",
      " 50%|#####     | 2/4 [00:02<00:02,  1.05s/it]\n",
      "\n",
      " 75%|#######5  | 3/4 [00:04<00:01,  1.50s/it]\n",
      "\n",
      "100%|##########| 4/4 [00:04<00:00,  1.04s/it]C:\\Users\\Simov\\Desktop\\Projects\\NLP\\Projects\\venv\\Lib\\site-packages\\seqeval\\metrics\\sequence_labeling.py:171: UserWarning: 0 seems not to be NE tag.\n",
      "  warnings.warn('{} seems not to be NE tag.'.format(chunk))\n",
      "C:\\Users\\Simov\\Desktop\\Projects\\NLP\\Projects\\venv\\Lib\\site-packages\\seqeval\\metrics\\sequence_labeling.py:171: UserWarning: 1 seems not to be NE tag.\n",
      "  warnings.warn('{} seems not to be NE tag.'.format(chunk))\n",
      "C:\\Users\\Simov\\Desktop\\Projects\\NLP\\Projects\\venv\\Lib\\site-packages\\seqeval\\metrics\\v1.py:57: UndefinedMetricWarning: Precision and F-score are ill-defined and being set to 0.0 due to no predicted samples. Use `zero_division` parameter to control this behavior.\n",
      "  _warn_prf(average, modifier, msg_start, len(result))\n",
      "C:\\Users\\Simov\\Desktop\\Projects\\NLP\\Projects\\venv\\Lib\\site-packages\\seqeval\\metrics\\v1.py:57: UndefinedMetricWarning: Recall and F-score are ill-defined and being set to 0.0 due to no true samples. Use `zero_division` parameter to control this behavior.\n",
      "  _warn_prf(average, modifier, msg_start, len(result))\n",
      "C:\\Users\\Simov\\Desktop\\Projects\\NLP\\Projects\\venv\\Lib\\site-packages\\numpy\\lib\\_function_base_impl.py:552: RuntimeWarning: Mean of empty slice.\n",
      "  avg = a.mean(axis, **keepdims_kw)\n",
      "C:\\Users\\Simov\\Desktop\\Projects\\NLP\\Projects\\venv\\Lib\\site-packages\\numpy\\_core\\_methods.py:145: RuntimeWarning: invalid value encountered in scalar divide\n",
      "  ret = ret.dtype.type(ret / rcount)\n",
      "\n",
      "                                                 \n",
      "\n",
      "\n",
      "                                             \n",
      "\n",
      "100%|##########| 145/145 [28:30<00:00,  8.78s/it]\n",
      "\n",
      "100%|##########| 4/4 [00:04<00:00,  1.04s/it]\n",
      "\n",
      "                                             \n",
      "                                                 \n",
      "\n",
      "100%|##########| 145/145 [28:30<00:00,  8.78s/it]\n",
      "100%|##########| 145/145 [28:30<00:00, 11.79s/it]\n",
      "\n",
      "  0%|          | 0/4 [00:00<?, ?it/s]\n",
      " 50%|#####     | 2/4 [00:02<00:02,  1.05s/it]\n",
      " 75%|#######5  | 3/4 [00:04<00:01,  1.48s/it]\n",
      "100%|##########| 4/4 [00:04<00:00,  1.03s/it]\n",
      "100%|##########| 4/4 [00:04<00:00,  1.19s/it]\n"
     ]
    }
   ],
   "source": [
    "baseline_model(\"train\", \"./results\", \"data_sets/validation\", \"en\")"
   ]
  },
  {
   "cell_type": "code",
   "execution_count": 9,
   "id": "9e9004eb-48c7-4fd5-8422-52b1e280dd7c",
   "metadata": {},
   "outputs": [
    {
     "name": "stdout",
     "output_type": "stream",
     "text": [
      "Test model: results/checkpoint-145"
     ]
    },
    {
     "name": "stderr",
     "output_type": "stream",
     "text": [
      "We strongly recommend passing in an `attention_mask` since your input_ids may be padded. See https://huggingface.co/docs/transformers/troubleshooting#incorrect-output-when-padding-tokens-arent-masked."
     ]
    },
    {
     "name": "stdout",
     "output_type": "stream",
     "text": [
      "\n"
     ]
    },
    {
     "name": "stderr",
     "output_type": "stream",
     "text": [
      "\n"
     ]
    },
    {
     "name": "stdout",
     "output_type": "stream",
     "text": [
      "Labels saved to en-hard_labels.json and en-soft_labels.json\n",
      "Prediction file saved to en-pred.jsonl\n"
     ]
    }
   ],
   "source": [
    "baseline_model(\"test\", \"results/checkpoint-145\", \"data_sets/validation\", \"en\")"
   ]
  },
  {
   "cell_type": "code",
   "execution_count": null,
   "id": "2e737551-4aaa-4ee1-b283-5bf6a74f340b",
   "metadata": {},
   "outputs": [],
   "source": []
  }
 ],
 "metadata": {
  "kernelspec": {
   "display_name": "Python 3 (ipykernel)",
   "language": "python",
   "name": "python3"
  },
  "language_info": {
   "codemirror_mode": {
    "name": "ipython",
    "version": 3
   },
   "file_extension": ".py",
   "mimetype": "text/x-python",
   "name": "python",
   "nbconvert_exporter": "python",
   "pygments_lexer": "ipython3",
   "version": "3.12.6"
  }
 },
 "nbformat": 4,
 "nbformat_minor": 5
}
